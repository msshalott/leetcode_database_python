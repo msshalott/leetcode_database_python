{
 "cells": [
  {
   "cell_type": "code",
   "execution_count": 1,
   "id": "ccf4f34e-95d9-4e38-8edd-cd1924fd4dd4",
   "metadata": {},
   "outputs": [],
   "source": [
    "import pandas as pd\n",
    "import datetime as dt"
   ]
  },
  {
   "cell_type": "code",
   "execution_count": 2,
   "id": "fe33b976-5b02-4331-a30d-950ef5273eb3",
   "metadata": {},
   "outputs": [
    {
     "data": {
      "text/html": [
       "<div>\n",
       "<style scoped>\n",
       "    .dataframe tbody tr th:only-of-type {\n",
       "        vertical-align: middle;\n",
       "    }\n",
       "\n",
       "    .dataframe tbody tr th {\n",
       "        vertical-align: top;\n",
       "    }\n",
       "\n",
       "    .dataframe thead th {\n",
       "        text-align: right;\n",
       "    }\n",
       "</style>\n",
       "<table border=\"1\" class=\"dataframe\">\n",
       "  <thead>\n",
       "    <tr style=\"text-align: right;\">\n",
       "      <th></th>\n",
       "      <th>player_id</th>\n",
       "      <th>device_id</th>\n",
       "      <th>event_date</th>\n",
       "      <th>games_played</th>\n",
       "    </tr>\n",
       "  </thead>\n",
       "  <tbody>\n",
       "    <tr>\n",
       "      <th>0</th>\n",
       "      <td>1</td>\n",
       "      <td>2</td>\n",
       "      <td>2016-03-01</td>\n",
       "      <td>5</td>\n",
       "    </tr>\n",
       "    <tr>\n",
       "      <th>1</th>\n",
       "      <td>1</td>\n",
       "      <td>2</td>\n",
       "      <td>2016-05-02</td>\n",
       "      <td>6</td>\n",
       "    </tr>\n",
       "    <tr>\n",
       "      <th>2</th>\n",
       "      <td>1</td>\n",
       "      <td>3</td>\n",
       "      <td>2017-06-25</td>\n",
       "      <td>1</td>\n",
       "    </tr>\n",
       "    <tr>\n",
       "      <th>3</th>\n",
       "      <td>3</td>\n",
       "      <td>1</td>\n",
       "      <td>2016-03-02</td>\n",
       "      <td>0</td>\n",
       "    </tr>\n",
       "    <tr>\n",
       "      <th>4</th>\n",
       "      <td>3</td>\n",
       "      <td>4</td>\n",
       "      <td>2018-07-03</td>\n",
       "      <td>5</td>\n",
       "    </tr>\n",
       "  </tbody>\n",
       "</table>\n",
       "</div>"
      ],
      "text/plain": [
       "   player_id  device_id event_date  games_played\n",
       "0          1          2 2016-03-01             5\n",
       "1          1          2 2016-05-02             6\n",
       "2          1          3 2017-06-25             1\n",
       "3          3          1 2016-03-02             0\n",
       "4          3          4 2018-07-03             5"
      ]
     },
     "execution_count": 2,
     "metadata": {},
     "output_type": "execute_result"
    }
   ],
   "source": [
    "Activity=pd.DataFrame({'player_id':[1,1,1,3,3],\n",
    "                       'device_id':[2,2,3,1,4],\n",
    "                       'event_date':['2016-03-01','2016-05-02','2017-06-25','2016-03-02','2018-07-03'],\n",
    "                       'games_played':[5,6,1,0,5]})\n",
    "Activity['event_date'] = pd.to_datetime(Activity['event_date'])\n",
    "Activity"
   ]
  },
  {
   "cell_type": "code",
   "execution_count": 3,
   "id": "20c0d71c-4f8e-4e0c-86e6-68e0a64124ba",
   "metadata": {},
   "outputs": [
    {
     "data": {
      "text/html": [
       "<div>\n",
       "<style scoped>\n",
       "    .dataframe tbody tr th:only-of-type {\n",
       "        vertical-align: middle;\n",
       "    }\n",
       "\n",
       "    .dataframe tbody tr th {\n",
       "        vertical-align: top;\n",
       "    }\n",
       "\n",
       "    .dataframe thead th {\n",
       "        text-align: right;\n",
       "    }\n",
       "</style>\n",
       "<table border=\"1\" class=\"dataframe\">\n",
       "  <thead>\n",
       "    <tr style=\"text-align: right;\">\n",
       "      <th></th>\n",
       "      <th>player_id</th>\n",
       "      <th>device_id</th>\n",
       "      <th>event_date</th>\n",
       "      <th>games_played</th>\n",
       "      <th>games_played_so_far</th>\n",
       "    </tr>\n",
       "  </thead>\n",
       "  <tbody>\n",
       "    <tr>\n",
       "      <th>0</th>\n",
       "      <td>1</td>\n",
       "      <td>2</td>\n",
       "      <td>2016-03-01</td>\n",
       "      <td>5</td>\n",
       "      <td>0</td>\n",
       "    </tr>\n",
       "    <tr>\n",
       "      <th>1</th>\n",
       "      <td>1</td>\n",
       "      <td>2</td>\n",
       "      <td>2016-05-02</td>\n",
       "      <td>6</td>\n",
       "      <td>0</td>\n",
       "    </tr>\n",
       "    <tr>\n",
       "      <th>2</th>\n",
       "      <td>1</td>\n",
       "      <td>3</td>\n",
       "      <td>2017-06-25</td>\n",
       "      <td>1</td>\n",
       "      <td>0</td>\n",
       "    </tr>\n",
       "    <tr>\n",
       "      <th>3</th>\n",
       "      <td>3</td>\n",
       "      <td>1</td>\n",
       "      <td>2016-03-02</td>\n",
       "      <td>0</td>\n",
       "      <td>0</td>\n",
       "    </tr>\n",
       "    <tr>\n",
       "      <th>4</th>\n",
       "      <td>3</td>\n",
       "      <td>4</td>\n",
       "      <td>2018-07-03</td>\n",
       "      <td>5</td>\n",
       "      <td>0</td>\n",
       "    </tr>\n",
       "  </tbody>\n",
       "</table>\n",
       "</div>"
      ],
      "text/plain": [
       "   player_id  device_id event_date  games_played  games_played_so_far\n",
       "0          1          2 2016-03-01             5                    0\n",
       "1          1          2 2016-05-02             6                    0\n",
       "2          1          3 2017-06-25             1                    0\n",
       "3          3          1 2016-03-02             0                    0\n",
       "4          3          4 2018-07-03             5                    0"
      ]
     },
     "execution_count": 3,
     "metadata": {},
     "output_type": "execute_result"
    }
   ],
   "source": [
    "#534.Game Play Analysis III\n",
    "Activity['games_played_so_far']=0\n",
    "Activity"
   ]
  },
  {
   "cell_type": "code",
   "execution_count": 4,
   "id": "9ac7a873-db2f-4f7d-a735-c71d34f96776",
   "metadata": {},
   "outputs": [
    {
     "name": "stdout",
     "output_type": "stream",
     "text": [
      "   player_id event_date  games_played_so_far\n",
      "0          1 2016-03-01                    5\n",
      "1          1 2016-05-02                   11\n",
      "2          1 2017-06-25                   12\n",
      "3          3 2016-03-02                    0\n",
      "4          3 2018-07-03                    5\n"
     ]
    }
   ],
   "source": [
    "for i in range(len(Activity)):\n",
    "    player_id = Activity.loc[i, 'player_id']\n",
    "    event_date = Activity.loc[i, 'event_date']\n",
    "    games_played = Activity.loc[i, 'games_played']\n",
    "\n",
    "    Activity.loc[i, 'games_played_so_far'] = Activity.loc[(Activity['player_id'] == player_id) & (Activity['event_date'] <= event_date), 'games_played'].sum()\n",
    "\n",
    "\n",
    "print(Activity[['player_id','event_date','games_played_so_far']])"
   ]
  },
  {
   "cell_type": "code",
   "execution_count": null,
   "id": "d0f8dbed-b0e0-4341-bff9-be6039d6669b",
   "metadata": {},
   "outputs": [],
   "source": []
  },
  {
   "cell_type": "code",
   "execution_count": null,
   "id": "af05dca7-4ed9-4d61-a0f7-29378dc228fa",
   "metadata": {},
   "outputs": [],
   "source": []
  }
 ],
 "metadata": {
  "kernelspec": {
   "display_name": "Python 3 (ipykernel)",
   "language": "python",
   "name": "python3"
  },
  "language_info": {
   "codemirror_mode": {
    "name": "ipython",
    "version": 3
   },
   "file_extension": ".py",
   "mimetype": "text/x-python",
   "name": "python",
   "nbconvert_exporter": "python",
   "pygments_lexer": "ipython3",
   "version": "3.9.12"
  }
 },
 "nbformat": 4,
 "nbformat_minor": 5
}
