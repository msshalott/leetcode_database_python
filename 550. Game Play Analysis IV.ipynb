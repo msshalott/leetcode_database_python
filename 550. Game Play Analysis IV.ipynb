{
 "cells": [
  {
   "cell_type": "code",
   "execution_count": 1,
   "id": "5ac75d71-b456-40f5-9b45-2bffa0442845",
   "metadata": {},
   "outputs": [],
   "source": [
    "import pandas as pd\n",
    "import datetime as dt"
   ]
  },
  {
   "cell_type": "code",
   "execution_count": 2,
   "id": "71608972-faa6-496f-8405-5f5d330bdc21",
   "metadata": {
    "tags": []
   },
   "outputs": [
    {
     "data": {
      "text/html": [
       "<div>\n",
       "<style scoped>\n",
       "    .dataframe tbody tr th:only-of-type {\n",
       "        vertical-align: middle;\n",
       "    }\n",
       "\n",
       "    .dataframe tbody tr th {\n",
       "        vertical-align: top;\n",
       "    }\n",
       "\n",
       "    .dataframe thead th {\n",
       "        text-align: right;\n",
       "    }\n",
       "</style>\n",
       "<table border=\"1\" class=\"dataframe\">\n",
       "  <thead>\n",
       "    <tr style=\"text-align: right;\">\n",
       "      <th></th>\n",
       "      <th>player_id</th>\n",
       "      <th>device_id</th>\n",
       "      <th>event_date</th>\n",
       "      <th>games_played</th>\n",
       "    </tr>\n",
       "  </thead>\n",
       "  <tbody>\n",
       "    <tr>\n",
       "      <th>0</th>\n",
       "      <td>1</td>\n",
       "      <td>2</td>\n",
       "      <td>2016-03-01</td>\n",
       "      <td>5</td>\n",
       "    </tr>\n",
       "    <tr>\n",
       "      <th>1</th>\n",
       "      <td>1</td>\n",
       "      <td>2</td>\n",
       "      <td>2016-03-02</td>\n",
       "      <td>6</td>\n",
       "    </tr>\n",
       "    <tr>\n",
       "      <th>2</th>\n",
       "      <td>2</td>\n",
       "      <td>3</td>\n",
       "      <td>2017-06-25</td>\n",
       "      <td>1</td>\n",
       "    </tr>\n",
       "    <tr>\n",
       "      <th>3</th>\n",
       "      <td>2</td>\n",
       "      <td>1</td>\n",
       "      <td>2017-06-26</td>\n",
       "      <td>0</td>\n",
       "    </tr>\n",
       "    <tr>\n",
       "      <th>4</th>\n",
       "      <td>3</td>\n",
       "      <td>4</td>\n",
       "      <td>2018-07-03</td>\n",
       "      <td>5</td>\n",
       "    </tr>\n",
       "  </tbody>\n",
       "</table>\n",
       "</div>"
      ],
      "text/plain": [
       "   player_id  device_id event_date  games_played\n",
       "0          1          2 2016-03-01             5\n",
       "1          1          2 2016-03-02             6\n",
       "2          2          3 2017-06-25             1\n",
       "3          2          1 2017-06-26             0\n",
       "4          3          4 2018-07-03             5"
      ]
     },
     "execution_count": 2,
     "metadata": {},
     "output_type": "execute_result"
    }
   ],
   "source": [
    "Activity=pd.DataFrame({'player_id':[1,1,2,2,3],\n",
    "                       'device_id':[2,2,3,1,4],\n",
    "                       'event_date':['2016-03-01','2016-03-02','2017-06-25','2017-06-26','2018-07-03'],\n",
    "                       'games_played':[5,6,1,0,5]})\n",
    "Activity['event_date'] = pd.to_datetime(Activity['event_date'])\n",
    "Activity"
   ]
  },
  {
   "cell_type": "code",
   "execution_count": 3,
   "id": "4b292f66-0560-45cf-af7b-2d282e912ac1",
   "metadata": {},
   "outputs": [],
   "source": [
    "#group the data by player_id and find the min login date for each player\n",
    "first_login_dates = Activity.groupby('player_id')['event_date'].min().reset_index()"
   ]
  },
  {
   "cell_type": "code",
   "execution_count": 4,
   "id": "3d1b9b80-bbc9-4b0f-a419-6dff371988eb",
   "metadata": {},
   "outputs": [],
   "source": [
    "merged=Activity.merge(first_login_dates,on='player_id')"
   ]
  },
  {
   "cell_type": "code",
   "execution_count": 5,
   "id": "ef79e0f2-50d3-4567-aa64-3af7f31acbb1",
   "metadata": {},
   "outputs": [
    {
     "name": "stdout",
     "output_type": "stream",
     "text": [
      "Fraction of players with consecutive logins: 0.67\n"
     ]
    }
   ],
   "source": [
    "count = len(merged[merged['event_date_x'] == merged['event_date_y'] + pd.DateOffset(1)]['player_id'].unique())\n",
    "total = len(Activity['player_id'].unique())\n",
    "\n",
    "fraction = round(count / total, 2)\n",
    "print(\"Fraction of players with consecutive logins:\", fraction)"
   ]
  },
  {
   "cell_type": "code",
   "execution_count": null,
   "id": "25351f84-6538-47bb-82e1-7c1f83152c21",
   "metadata": {},
   "outputs": [],
   "source": []
  }
 ],
 "metadata": {
  "kernelspec": {
   "display_name": "Python 3 (ipykernel)",
   "language": "python",
   "name": "python3"
  },
  "language_info": {
   "codemirror_mode": {
    "name": "ipython",
    "version": 3
   },
   "file_extension": ".py",
   "mimetype": "text/x-python",
   "name": "python",
   "nbconvert_exporter": "python",
   "pygments_lexer": "ipython3",
   "version": "3.9.12"
  }
 },
 "nbformat": 4,
 "nbformat_minor": 5
}
