{
 "cells": [
  {
   "cell_type": "code",
   "execution_count": 1,
   "id": "8ac945c9-1cca-434e-b707-15ae2368606e",
   "metadata": {},
   "outputs": [],
   "source": [
    "import pandas as pd\n",
    "import numpy as np"
   ]
  },
  {
   "cell_type": "code",
   "execution_count": 2,
   "id": "99b89156-ebc5-4e16-841e-fc9e0d52c947",
   "metadata": {},
   "outputs": [
    {
     "data": {
      "text/html": [
       "<div>\n",
       "<style scoped>\n",
       "    .dataframe tbody tr th:only-of-type {\n",
       "        vertical-align: middle;\n",
       "    }\n",
       "\n",
       "    .dataframe tbody tr th {\n",
       "        vertical-align: top;\n",
       "    }\n",
       "\n",
       "    .dataframe thead th {\n",
       "        text-align: right;\n",
       "    }\n",
       "</style>\n",
       "<table border=\"1\" class=\"dataframe\">\n",
       "  <thead>\n",
       "    <tr style=\"text-align: right;\">\n",
       "      <th></th>\n",
       "      <th>id</th>\n",
       "      <th>score</th>\n",
       "    </tr>\n",
       "  </thead>\n",
       "  <tbody>\n",
       "    <tr>\n",
       "      <th>0</th>\n",
       "      <td>1</td>\n",
       "      <td>3.50</td>\n",
       "    </tr>\n",
       "    <tr>\n",
       "      <th>1</th>\n",
       "      <td>2</td>\n",
       "      <td>3.65</td>\n",
       "    </tr>\n",
       "    <tr>\n",
       "      <th>2</th>\n",
       "      <td>3</td>\n",
       "      <td>4.00</td>\n",
       "    </tr>\n",
       "    <tr>\n",
       "      <th>3</th>\n",
       "      <td>4</td>\n",
       "      <td>3.85</td>\n",
       "    </tr>\n",
       "    <tr>\n",
       "      <th>4</th>\n",
       "      <td>5</td>\n",
       "      <td>4.00</td>\n",
       "    </tr>\n",
       "    <tr>\n",
       "      <th>5</th>\n",
       "      <td>6</td>\n",
       "      <td>3.65</td>\n",
       "    </tr>\n",
       "  </tbody>\n",
       "</table>\n",
       "</div>"
      ],
      "text/plain": [
       "   id  score\n",
       "0   1   3.50\n",
       "1   2   3.65\n",
       "2   3   4.00\n",
       "3   4   3.85\n",
       "4   5   4.00\n",
       "5   6   3.65"
      ]
     },
     "execution_count": 2,
     "metadata": {},
     "output_type": "execute_result"
    }
   ],
   "source": [
    "Scores=pd.DataFrame({'id':[1,2,3,4,5,6],'score':[3.5,3.65,4,3.85,4,3.65]})\n",
    "Scores"
   ]
  },
  {
   "cell_type": "code",
   "execution_count": 5,
   "id": "6bea8014-948c-450a-a875-a2ff1cfb628e",
   "metadata": {},
   "outputs": [],
   "source": [
    "# DataFrame.rank(axis=0, method='average', numeric_only=False, na_option='keep', ascending=True, pct=False)[source]\n",
    "#Compute numerical data ranks (1 through n) along axis.\n",
    "\n",
    "#By default, equal values are assigned a rank that is the average of the ranks of those values.\n",
    "\n",
    "#Parameters\n",
    "#axis{0 or ‘index’, 1 or ‘columns’}, default 0 【axis=0 means rank in column, =1 means rank in row】\n",
    "#Index to direct ranking. For Series this parameter is unused and defaults to 0.\n",
    "\n",
    "#method{‘average’, ‘min’, ‘max’, ‘first’, ‘dense’}, default ‘average’\n",
    "#How to rank the group of records that have the same value (i.e. ties):\n",
    "\n",
    "#average: average rank of the group\n",
    "\n",
    "#min: lowest rank in the group\n",
    "\n",
    "#max: highest rank in the group\n",
    "\n",
    "#first: ranks assigned in order they appear in the array\n",
    "\n",
    "#dense: like ‘min’, but rank always increases by 1 between groups.\n",
    "\n",
    "#numeric_onlybool, default False\n",
    "#For DataFrame objects, rank only numeric columns if set to True.\n",
    "\n",
    "#Changed in version 2.0.0: The default value of numeric_only is now False.\n",
    "\n",
    "#na_option{‘keep’, ‘top’, ‘bottom’}, default ‘keep’\n",
    "#How to rank NaN values:\n",
    "\n",
    "#keep: assign NaN rank to NaN values\n",
    "\n",
    "#top: assign lowest rank to NaN values\n",
    "\n",
    "#bottom: assign highest rank to NaN values\n",
    "\n",
    "#ascendingbool, default True\n",
    "#Whether or not the elements should be ranked in ascending order.\n",
    "\n",
    "#pctbool, default False\n",
    "#Whether or not to display the returned rankings in percentile form.\n",
    "\n",
    "#Returns\n",
    "#same type as caller\n",
    "#Return a Series or DataFrame with data ranks as values."
   ]
  },
  {
   "cell_type": "code",
   "execution_count": 3,
   "id": "d795834c-8b18-4552-b408-7f66af2f1dca",
   "metadata": {},
   "outputs": [],
   "source": [
    "Scores['rank']=Scores['score'].rank(axis=0,method='dense',ascending=False)"
   ]
  },
  {
   "cell_type": "code",
   "execution_count": 4,
   "id": "34c2eb6b-22d8-4a50-891c-fe97dc11a9e1",
   "metadata": {},
   "outputs": [
    {
     "data": {
      "text/html": [
       "<div>\n",
       "<style scoped>\n",
       "    .dataframe tbody tr th:only-of-type {\n",
       "        vertical-align: middle;\n",
       "    }\n",
       "\n",
       "    .dataframe tbody tr th {\n",
       "        vertical-align: top;\n",
       "    }\n",
       "\n",
       "    .dataframe thead th {\n",
       "        text-align: right;\n",
       "    }\n",
       "</style>\n",
       "<table border=\"1\" class=\"dataframe\">\n",
       "  <thead>\n",
       "    <tr style=\"text-align: right;\">\n",
       "      <th></th>\n",
       "      <th>score</th>\n",
       "      <th>rank</th>\n",
       "    </tr>\n",
       "  </thead>\n",
       "  <tbody>\n",
       "    <tr>\n",
       "      <th>2</th>\n",
       "      <td>4.00</td>\n",
       "      <td>1.0</td>\n",
       "    </tr>\n",
       "    <tr>\n",
       "      <th>4</th>\n",
       "      <td>4.00</td>\n",
       "      <td>1.0</td>\n",
       "    </tr>\n",
       "    <tr>\n",
       "      <th>3</th>\n",
       "      <td>3.85</td>\n",
       "      <td>2.0</td>\n",
       "    </tr>\n",
       "    <tr>\n",
       "      <th>1</th>\n",
       "      <td>3.65</td>\n",
       "      <td>3.0</td>\n",
       "    </tr>\n",
       "    <tr>\n",
       "      <th>5</th>\n",
       "      <td>3.65</td>\n",
       "      <td>3.0</td>\n",
       "    </tr>\n",
       "    <tr>\n",
       "      <th>0</th>\n",
       "      <td>3.50</td>\n",
       "      <td>4.0</td>\n",
       "    </tr>\n",
       "  </tbody>\n",
       "</table>\n",
       "</div>"
      ],
      "text/plain": [
       "   score  rank\n",
       "2   4.00   1.0\n",
       "4   4.00   1.0\n",
       "3   3.85   2.0\n",
       "1   3.65   3.0\n",
       "5   3.65   3.0\n",
       "0   3.50   4.0"
      ]
     },
     "execution_count": 4,
     "metadata": {},
     "output_type": "execute_result"
    }
   ],
   "source": [
    "Scores[['score','rank']].sort_values('score',ascending=False)"
   ]
  },
  {
   "cell_type": "code",
   "execution_count": null,
   "id": "6e465b45-f644-49ab-bd32-7a66ee346bf4",
   "metadata": {},
   "outputs": [],
   "source": []
  }
 ],
 "metadata": {
  "kernelspec": {
   "display_name": "Python 3 (ipykernel)",
   "language": "python",
   "name": "python3"
  },
  "language_info": {
   "codemirror_mode": {
    "name": "ipython",
    "version": 3
   },
   "file_extension": ".py",
   "mimetype": "text/x-python",
   "name": "python",
   "nbconvert_exporter": "python",
   "pygments_lexer": "ipython3",
   "version": "3.9.12"
  }
 },
 "nbformat": 4,
 "nbformat_minor": 5
}
