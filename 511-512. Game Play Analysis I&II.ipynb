{
 "cells": [
  {
   "cell_type": "code",
   "execution_count": 1,
   "id": "30e52c67-1130-4551-a5af-04fea2f13d1a",
   "metadata": {},
   "outputs": [],
   "source": [
    "import pandas as pd\n",
    "import datetime as dt"
   ]
  },
  {
   "cell_type": "code",
   "execution_count": 2,
   "id": "742cacf3-f29f-4c96-ac33-d1e774ddf52c",
   "metadata": {},
   "outputs": [
    {
     "data": {
      "text/html": [
       "<div>\n",
       "<style scoped>\n",
       "    .dataframe tbody tr th:only-of-type {\n",
       "        vertical-align: middle;\n",
       "    }\n",
       "\n",
       "    .dataframe tbody tr th {\n",
       "        vertical-align: top;\n",
       "    }\n",
       "\n",
       "    .dataframe thead th {\n",
       "        text-align: right;\n",
       "    }\n",
       "</style>\n",
       "<table border=\"1\" class=\"dataframe\">\n",
       "  <thead>\n",
       "    <tr style=\"text-align: right;\">\n",
       "      <th></th>\n",
       "      <th>player_id</th>\n",
       "      <th>device_id</th>\n",
       "      <th>event_date</th>\n",
       "      <th>games_played</th>\n",
       "    </tr>\n",
       "  </thead>\n",
       "  <tbody>\n",
       "    <tr>\n",
       "      <th>0</th>\n",
       "      <td>1</td>\n",
       "      <td>2</td>\n",
       "      <td>2016-03-01</td>\n",
       "      <td>5</td>\n",
       "    </tr>\n",
       "    <tr>\n",
       "      <th>1</th>\n",
       "      <td>1</td>\n",
       "      <td>2</td>\n",
       "      <td>2016-05-02</td>\n",
       "      <td>6</td>\n",
       "    </tr>\n",
       "    <tr>\n",
       "      <th>2</th>\n",
       "      <td>2</td>\n",
       "      <td>3</td>\n",
       "      <td>2017-06-25</td>\n",
       "      <td>1</td>\n",
       "    </tr>\n",
       "    <tr>\n",
       "      <th>3</th>\n",
       "      <td>3</td>\n",
       "      <td>1</td>\n",
       "      <td>2016-03-02</td>\n",
       "      <td>0</td>\n",
       "    </tr>\n",
       "    <tr>\n",
       "      <th>4</th>\n",
       "      <td>3</td>\n",
       "      <td>4</td>\n",
       "      <td>2018-07-03</td>\n",
       "      <td>5</td>\n",
       "    </tr>\n",
       "  </tbody>\n",
       "</table>\n",
       "</div>"
      ],
      "text/plain": [
       "   player_id  device_id  event_date  games_played\n",
       "0          1          2  2016-03-01             5\n",
       "1          1          2  2016-05-02             6\n",
       "2          2          3  2017-06-25             1\n",
       "3          3          1  2016-03-02             0\n",
       "4          3          4  2018-07-03             5"
      ]
     },
     "execution_count": 2,
     "metadata": {},
     "output_type": "execute_result"
    }
   ],
   "source": [
    "Activity=pd.DataFrame({'player_id':[1,1,2,3,3],\n",
    "                       'device_id':[2,2,3,1,4],\n",
    "                       'event_date':['2016-03-01','2016-05-02','2017-06-25','2016-03-02','2018-07-03'],\n",
    "                       'games_played':[5,6,1,0,5]})\n",
    "Activity"
   ]
  },
  {
   "cell_type": "code",
   "execution_count": 3,
   "id": "6da6eed2-2785-416a-949e-9f4d2e4cddd6",
   "metadata": {},
   "outputs": [
    {
     "data": {
      "text/plain": [
       "player_id\n",
       "1   2016-03-01\n",
       "2   2017-06-25\n",
       "3   2016-03-02\n",
       "dtype: datetime64[ns]"
      ]
     },
     "execution_count": 3,
     "metadata": {},
     "output_type": "execute_result"
    }
   ],
   "source": [
    "#511.Game Play Analysis I\n",
    "Activity1=Activity.groupby(['player_id']).apply(lambda x: pd.to_datetime(x['event_date']).min())\n",
    "Activity1"
   ]
  },
  {
   "cell_type": "code",
   "execution_count": 4,
   "id": "ecbae8aa-3280-48cf-99cf-b69b39863040",
   "metadata": {},
   "outputs": [
    {
     "name": "stdout",
     "output_type": "stream",
     "text": [
      "   player_id  device_id\n",
      "0          1          2\n",
      "2          2          3\n",
      "3          3          1\n"
     ]
    }
   ],
   "source": [
    "#512.Game Play Analysis II\n",
    "#find the index of each player with first loggin\n",
    "Activity['event_date'] = pd.to_datetime(Activity['event_date'])\n",
    "index = Activity.groupby(['player_id'])['event_date'].idxmin()\n",
    "Activity2=Activity.loc[index, ['player_id', 'device_id']]\n",
    "print(Activity2)"
   ]
  },
  {
   "cell_type": "code",
   "execution_count": null,
   "id": "af65a162-777a-4218-bdb7-a83749940f20",
   "metadata": {},
   "outputs": [],
   "source": []
  }
 ],
 "metadata": {
  "kernelspec": {
   "display_name": "Python 3 (ipykernel)",
   "language": "python",
   "name": "python3"
  },
  "language_info": {
   "codemirror_mode": {
    "name": "ipython",
    "version": 3
   },
   "file_extension": ".py",
   "mimetype": "text/x-python",
   "name": "python",
   "nbconvert_exporter": "python",
   "pygments_lexer": "ipython3",
   "version": "3.9.12"
  }
 },
 "nbformat": 4,
 "nbformat_minor": 5
}
